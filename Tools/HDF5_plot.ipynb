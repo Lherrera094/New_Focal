{
 "cells": [
  {
   "cell_type": "code",
   "execution_count": 1,
   "id": "8f7a0b0b-b6b0-45fa-b126-42e95ee42600",
   "metadata": {},
   "outputs": [],
   "source": [
    "import h5py\n",
    "import numpy as np\n",
    "import os.path\n",
    "import plotly.graph_objects as go\n",
    "import plotly.io as pio\n",
    "pio.renderers.default = 'browser'"
   ]
  },
  {
   "cell_type": "markdown",
   "id": "518a3670-5e79-406f-993f-98f3969fc3b6",
   "metadata": {},
   "source": [
    "## Read HDF5 file"
   ]
  },
  {
   "cell_type": "code",
   "execution_count": 2,
   "id": "a05e7591-c351-40f9-988c-e0aae6376225",
   "metadata": {},
   "outputs": [
    {
     "name": "stdout",
     "output_type": "stream",
     "text": [
      "B0x : <class 'h5py._hl.dataset.Dataset'>\n",
      "B0y : <class 'h5py._hl.dataset.Dataset'>\n",
      "B0z : <class 'h5py._hl.dataset.Dataset'>\n",
      "config : <class 'h5py._hl.group.Group'>\n",
      "n_e : <class 'h5py._hl.dataset.Dataset'>\n"
     ]
    }
   ],
   "source": [
    "f = h5py.File(\"System_configuration.h5\", \"r\")\n",
    "for key in f.keys():\n",
    "    print(key, \":\", type(f[key])) #Names of the root level object names in HDF5 file - can be groups or datasets."
   ]
  },
  {
   "cell_type": "code",
   "execution_count": 3,
   "id": "41562327-b737-4a94-ad87-8ce140789cbf",
   "metadata": {},
   "outputs": [
    {
     "name": "stdout",
     "output_type": "stream",
     "text": [
      "N_x : <class 'h5py._hl.dataset.Dataset'>\n",
      "N_y : <class 'h5py._hl.dataset.Dataset'>\n",
      "N_z : <class 'h5py._hl.dataset.Dataset'>\n",
      "ant_w0x : <class 'h5py._hl.dataset.Dataset'>\n",
      "ant_w0y : <class 'h5py._hl.dataset.Dataset'>\n",
      "ant_x : <class 'h5py._hl.dataset.Dataset'>\n",
      "ant_y : <class 'h5py._hl.dataset.Dataset'>\n",
      "ant_z : <class 'h5py._hl.dataset.Dataset'>\n",
      "d_absorb : <class 'h5py._hl.dataset.Dataset'>\n",
      "period : <class 'h5py._hl.dataset.Dataset'>\n",
      "z2waist : <class 'h5py._hl.dataset.Dataset'>\n"
     ]
    }
   ],
   "source": [
    "for key in f[\"config\"].keys():\n",
    "    print(key, \":\",type(f[\"config\"][key])) #Names of the root level object names in HDF5 file - can be groups or datasets."
   ]
  },
  {
   "cell_type": "markdown",
   "id": "b22c3a23-7c53-496f-9ea9-397d1df3a251",
   "metadata": {},
   "source": [
    "## Plot data HDF5: Plasma density"
   ]
  },
  {
   "cell_type": "code",
   "execution_count": 4,
   "id": "20d8ef13-e3d5-4f57-8a22-67cfb4306a56",
   "metadata": {},
   "outputs": [],
   "source": [
    "density = f['n_e'][:]\n",
    "density = np.where(density < 0.01, 0, density)"
   ]
  },
  {
   "cell_type": "code",
   "execution_count": 5,
   "id": "e7150ada-4ebb-4af4-93a7-1f2678736fa2",
   "metadata": {},
   "outputs": [
    {
     "name": "stdout",
     "output_type": "stream",
     "text": [
      "Shape: (150, 150, 200)\n",
      "Data Type (dtype): float64\n",
      "Size: 4500000\n"
     ]
    }
   ],
   "source": [
    "print(f\"Shape: {density.shape}\")  # Shape of the dataset (dimensions)\n",
    "print(f\"Data Type (dtype): {density.dtype}\")  # Data type of the elements\n",
    "print(f\"Size: {density.size}\")  # Total number of elements in the dataset"
   ]
  },
  {
   "cell_type": "code",
   "execution_count": 6,
   "id": "976175a3-10fc-41c2-a5aa-68acc68ed28f",
   "metadata": {},
   "outputs": [],
   "source": [
    "# Generate the coordinate grid for the 3D volume (X, Y, Z)\n",
    "x = density.shape[0]\n",
    "y = density.shape[1]\n",
    "z = density.shape[2]\n",
    "X, Y, Z = np.mgrid[ 0:x:x*1j, 0:y:y*1j, 0:z:z*1j ]"
   ]
  },
  {
   "cell_type": "code",
   "execution_count": 7,
   "id": "4a6f84f3-109b-4e85-86e0-45674a19c901",
   "metadata": {},
   "outputs": [],
   "source": [
    "# Create a 3D Volume Plot using Plotly\n",
    "fig = go.Figure(data=go.Volume(\n",
    "    x=X.flatten(),                 # X-coordinates\n",
    "    y=Y.flatten(),                 # Y-coordinates\n",
    "    z=Z.flatten(),                 # Z-coordinates\n",
    "    value = density.flatten(),     # Flattened volume data\n",
    "    isomin=0.2,                    # Minimum value to display\n",
    "    isomax=np.max(density),        # Maximum value to display\n",
    "    opacity=0.2,                   # Adjust opacity (between 0 and 1) for better visualization\n",
    "    surface_count=10,              # Number of volume surfaces to display\n",
    "    colorscale='plasma',           # Choose a colorscale\n",
    "))\n",
    "\n",
    "# Update layout\n",
    "fig.update_layout(scene=dict(\n",
    "    xaxis_title='X Axis',\n",
    "    yaxis_title='Y Axis',\n",
    "    zaxis_title='Z Axis'\n",
    "))\n",
    "\n",
    "# Show the plot\n",
    "fig.show()"
   ]
  },
  {
   "cell_type": "markdown",
   "id": "9ecce7c2-ee40-4954-99f8-9046b07e5d5d",
   "metadata": {},
   "source": [
    "## Plot data HDF5: Electric field"
   ]
  },
  {
   "cell_type": "code",
   "execution_count": 8,
   "id": "c707e695-6bd0-4442-99a2-1f4dad614e0d",
   "metadata": {},
   "outputs": [
    {
     "name": "stdout",
     "output_type": "stream",
     "text": [
      "E_abs : <class 'h5py._hl.dataset.Dataset'>\n"
     ]
    }
   ],
   "source": [
    "E_f = h5py.File(\"System_evolution/fileout.h5_time=50\", \"r\")\n",
    "for key in E_f.keys():\n",
    "    print(key, \":\", type(E_f[key])) #Names of the root level object names in HDF5 file - can be groups or datasets."
   ]
  },
  {
   "cell_type": "code",
   "execution_count": 9,
   "id": "10b05017-d647-4e28-a221-bf9e2a4db1bf",
   "metadata": {},
   "outputs": [
    {
     "name": "stdout",
     "output_type": "stream",
     "text": [
      "Shape: (150, 150, 200)\n",
      "Data Type (dtype): float64\n",
      "Size: 4500000\n"
     ]
    }
   ],
   "source": [
    "E_field_ds = E_f['E_abs'][:]\n",
    "print(f\"Shape: {E_field_ds.shape}\")  # Shape of the dataset (dimensions)\n",
    "print(f\"Data Type (dtype): {E_field_ds.dtype}\")  # Data type of the elements\n",
    "print(f\"Size: {E_field_ds.size}\")  # Total number of elements in the dataset"
   ]
  },
  {
   "cell_type": "code",
   "execution_count": 11,
   "id": "c346c8b5-6f10-49d3-954d-facb2cda9e09",
   "metadata": {},
   "outputs": [],
   "source": [
    "# Create a 3D Volume Plot using Plotly\n",
    "fig = go.Figure(data=go.Volume(\n",
    "    x=X.flatten(),                    # X-coordinates\n",
    "    y=Y.flatten(),                    # Y-coordinates\n",
    "    z=Z.flatten(),                    # Z-coordinates\n",
    "    value = E_field_ds.flatten(),     # Flattened volume data\n",
    "    isomin=0.1, #-np.max(E_field_ds),       # Minimum value to display\n",
    "    isomax=np.max(E_field_ds),        # Maximum value to display\n",
    "    opacity=0.2,                      # Adjust opacity (between 0 and 1) for better visualization\n",
    "    surface_count=10,                 # Number of volume surfaces to display\n",
    "    colorscale='jet',                 # Choose a colorscale\n",
    "))\n",
    "\n",
    "# Update layout\n",
    "fig.update_layout(scene=dict(\n",
    "    xaxis_title='X Axis',\n",
    "    yaxis_title='Y Axis',\n",
    "    zaxis_title='Z Axis'\n",
    "))\n",
    "\n",
    "# Show the plot\n",
    "fig.show()"
   ]
  },
  {
   "cell_type": "markdown",
   "id": "591542c8-6a18-461d-9002-37a6a78667aa",
   "metadata": {},
   "source": [
    "## Magnetic field"
   ]
  },
  {
   "cell_type": "code",
   "execution_count": 14,
   "id": "3281789d-957a-43c5-922c-fb21882c5d1a",
   "metadata": {},
   "outputs": [],
   "source": [
    "dataset = f['B0y'][:]"
   ]
  },
  {
   "cell_type": "code",
   "execution_count": 15,
   "id": "ef0c1fdc-8a8d-4da6-819e-39cc176f0ea9",
   "metadata": {},
   "outputs": [
    {
     "name": "stdout",
     "output_type": "stream",
     "text": [
      "Shape: (150, 150, 200)\n",
      "Data Type (dtype): float64\n",
      "Size: 4500000\n"
     ]
    }
   ],
   "source": [
    "print(f\"Shape: {dataset.shape}\")  # Shape of the dataset (dimensions)\n",
    "print(f\"Data Type (dtype): {dataset.dtype}\")  # Data type of the elements\n",
    "print(f\"Size: {dataset.size}\")  # Total number of elements in the dataset"
   ]
  },
  {
   "cell_type": "code",
   "execution_count": 16,
   "id": "a047d95a-c72a-484b-88f6-3a34e14a26eb",
   "metadata": {},
   "outputs": [],
   "source": [
    "# Create a 3D Volume Plot using Plotly\n",
    "fig = go.Figure(data=go.Volume(\n",
    "    x=X.flatten(),                 # X-coordinates\n",
    "    y=Y.flatten(),                 # Y-coordinates\n",
    "    z=Z.flatten(),                 # Z-coordinates\n",
    "    value = dataset.flatten(),     # Flattened volume data\n",
    "    isomin=0.2,                    # Minimum value to display\n",
    "    isomax=np.max(dataset),        # Maximum value to display\n",
    "    opacity=0.3,                   # Adjust opacity (between 0 and 1) for better visualization\n",
    "    surface_count=10,              # Number of volume surfaces to display\n",
    "    colorscale='plasma',           # Choose a colorscale\n",
    "))\n",
    "\n",
    "# Update layout\n",
    "fig.update_layout(scene=dict(\n",
    "    xaxis_title='X Axis',\n",
    "    yaxis_title='Y Axis',\n",
    "    zaxis_title='Z Axis'\n",
    "))\n",
    "\n",
    "# Show the plot\n",
    "fig.show()"
   ]
  },
  {
   "cell_type": "code",
   "execution_count": null,
   "id": "abfa14e8-72ba-4e67-8e63-e3c82c29a30b",
   "metadata": {},
   "outputs": [],
   "source": []
  }
 ],
 "metadata": {
  "kernelspec": {
   "display_name": "Python 3 (ipykernel)",
   "language": "python",
   "name": "python3"
  },
  "language_info": {
   "codemirror_mode": {
    "name": "ipython",
    "version": 3
   },
   "file_extension": ".py",
   "mimetype": "text/x-python",
   "name": "python",
   "nbconvert_exporter": "python",
   "pygments_lexer": "ipython3",
   "version": "3.8.18"
  }
 },
 "nbformat": 4,
 "nbformat_minor": 5
}
